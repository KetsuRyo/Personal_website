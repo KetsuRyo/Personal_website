{
 "cells": [
  {
   "cell_type": "code",
   "execution_count": 1,
   "metadata": {
    "id": "75xbWQGNzkIg"
   },
   "outputs": [],
   "source": [
    "# Import all the required libraries\n",
    "import numpy as np\n",
    "import pandas as pd"
   ]
  },
  {
   "cell_type": "markdown",
   "metadata": {},
   "source": [
    "## Question 1"
   ]
  },
  {
   "cell_type": "markdown",
   "metadata": {},
   "source": [
    "Create a ratings matrix using Numpy. This matrix allows us to see the ratings for a given movie and user ID. The element at location $[i,j]$ is a rating given by user $i$ for movie $j$. Print the **shape** of the matrix produced.  \n",
    "\n",
    "Additionally, choose 3 users that have rated the movie with MovieID \"**1377**\" (Batman Returns). Print these ratings, they will be used later for comparison.\n",
    "\n",
    "\n",
    "**Notes:**\n",
    "- Do *not* use `pivot_table`.\n",
    "- A ratings matrix is *not* the same as `ratings_data` from above.\n",
    "- The ratings of movie with MovieID $i$ are stored in the ($i$-1)th column (index starts from 0)  \n",
    "- Not every user has rated every movie. Missing entries should be set to 0 for now.\n",
    "- If you're stuck, you might want to look into `np.zeros` and how to use it to create a matrix of the desired shape.\n",
    "- Every review lies between 1 and 5, and thus fits within a `uint8` datatype, which you can specify to numpy."
   ]
  },
  {
   "cell_type": "code",
   "execution_count": 2,
   "metadata": {},
   "outputs": [
    {
     "name": "stdout",
     "output_type": "stream",
     "text": [
      "Gender                                               F         M\n",
      "Title                                                           \n",
      "Clean Slate (Coup de Torchon) (1981)               5.0  3.857143\n",
      "Ballad of Narayama, The (Narayama Bushiko) (1958)  5.0  3.428571\n",
      "Raw Deal (1948)                                    5.0  3.307692\n",
      "Bittersweet Motel (2000)                           5.0       NaN\n",
      "Skipped Parts (2000)                               5.0  4.000000\n",
      "Lamerica (1994)                                    5.0  4.666667\n",
      "Gambler, The (A Játékos) (1997)                    5.0  3.166667\n",
      "Brother, Can You Spare a Dime? (1975)              5.0  3.642857\n",
      "Ayn Rand: A Sense of Life (1997)                   5.0  4.000000\n",
      "24 7: Twenty Four Seven (1997)                     5.0  3.750000\n",
      "Twice Upon a Yesterday (1998)                      5.0  3.222222\n",
      "Woman of Paris, A (1923)                           5.0  2.428571\n",
      "I Am Cuba (Soy Cuba/Ya Kuba) (1964)                5.0  4.750000\n",
      "Gate of Heavenly Peace, The (1995)                 5.0  5.000000\n",
      "For the Moment (1994)                              5.0  3.000000\n",
      "Gender                                              F         M\n",
      "Title                                                          \n",
      "Schlafes Bruder (Brother of Sleep) (1995)         NaN  5.000000\n",
      "Small Wonders (1996)                         3.333333  5.000000\n",
      "Gate of Heavenly Peace, The (1995)           5.000000  5.000000\n",
      "Baby, The (1973)                                  NaN  5.000000\n",
      "Ulysses (Ulisse) (1954)                           NaN  5.000000\n",
      "Dangerous Game (1993)                        4.000000  5.000000\n",
      "Angela (1995)                                3.000000  5.000000\n",
      "Bells, The (1926)                            4.000000  5.000000\n",
      "Smashing Time (1967)                              NaN  5.000000\n",
      "Follow the Bitch (1998)                           NaN  5.000000\n",
      "Lured (1947)                                      NaN  5.000000\n",
      "Time of the Gypsies (Dom za vesanje) (1989)  3.500000  4.833333\n",
      "I Am Cuba (Soy Cuba/Ya Kuba) (1964)          5.000000  4.750000\n",
      "Lamerica (1994)                              5.000000  4.666667\n",
      "Window to Paris (1994)                       4.000000  4.666667\n"
     ]
    },
    {
     "data": {
      "text/plain": [
       "Title\n",
       "American Beauty (1999)                                   3428\n",
       "Star Wars: Episode IV - A New Hope (1977)                2991\n",
       "Star Wars: Episode V - The Empire Strikes Back (1980)    2990\n",
       "Star Wars: Episode VI - Return of the Jedi (1983)        2883\n",
       "Jurassic Park (1993)                                     2672\n",
       "Saving Private Ryan (1998)                               2653\n",
       "Terminator 2: Judgment Day (1991)                        2649\n",
       "Matrix, The (1999)                                       2590\n",
       "Back to the Future (1985)                                2583\n",
       "Silence of the Lambs, The (1991)                         2578\n",
       "dtype: int64"
      ]
     },
     "execution_count": 2,
     "metadata": {},
     "output_type": "execute_result"
    }
   ],
   "source": [
    "column_list_ratings = [\"UserID\", \"MovieID\", \"Ratings\",\"Timestamp\"]\n",
    "ratings_data  = pd.read_csv('ratings.dat',sep='::',names = column_list_ratings, engine='python')\n",
    "column_list_movies = [\"MovieID\",\"Title\",\"Genres\"]\n",
    "movies_data = pd.read_csv('movies.dat',sep = '::',names = column_list_movies, engine='python', encoding = 'latin-1')\n",
    "column_list_users = [\"UserID\",\"Gender\",\"Age\",\"Occupation\",\"Zixp-code\"]\n",
    "user_data = pd.read_csv(\"users.dat\",sep = \"::\",names = column_list_users, engine='python')\n",
    "data=pd.merge(pd.merge(ratings_data,user_data),movies_data)\n",
    "data\n",
    "\n",
    "mean_ratings=data.pivot_table('Ratings','Title',aggfunc='mean')\n",
    "mean_ratings\n",
    "mean_ratings=data.pivot_table('Ratings',index=[\"Title\"],aggfunc='mean')\n",
    "top_15_mean_ratings = mean_ratings.sort_values(by = 'Ratings',ascending = False).head(15)\n",
    "top_15_mean_ratings\n",
    "\n",
    "mean_ratings=data.pivot_table('Ratings',index=[\"Title\"],columns=[\"Gender\"],aggfunc='mean')\n",
    "mean_ratings\n",
    "data=pd.merge(pd.merge(ratings_data,user_data),movies_data)\n",
    "\n",
    "mean_ratings=data.pivot_table('Ratings',index=[\"Title\"],columns=[\"Gender\"],aggfunc='mean')\n",
    "top_female_ratings = mean_ratings.sort_values(by='F', ascending=False)\n",
    "print(top_female_ratings.head(15))\n",
    "\n",
    "top_male_ratings = mean_ratings.sort_values(by='M', ascending=False)\n",
    "print(top_male_ratings.head(15))\n",
    "mean_ratings['diff'] = mean_ratings['M'] - mean_ratings['F']\n",
    "sorted_by_diff = mean_ratings.sort_values(by='diff')\n",
    "sorted_by_diff[:10]\n",
    "ratings_by_title=data.groupby('Title').size()\n",
    "ratings_by_title.sort_values(ascending=False).head(10)"
   ]
  },
  {
   "cell_type": "code",
   "execution_count": 3,
   "metadata": {},
   "outputs": [],
   "source": [
    "# Create the matrix\n",
    "import numpy as np\n",
    "import pandas as pd\n",
    "\n",
    "\n",
    "\n",
    "# Get the maximum UserID and MovieID to determine the dimensions of the ratings matrix\n",
    "num_users = ratings_data['UserID'].max()\n",
    "num_movies = ratings_data['MovieID'].max()\n",
    "\n",
    "# Create a zero-initialized matrix of dimensions (num_users, num_movies)\n",
    "ratings_matrix = np.zeros((num_users, num_movies), dtype=np.uint8)\n",
    "\n",
    "# Iterate through the ratings_data DataFrame and fill in the ratings matrix\n",
    "for index, row in ratings_data.iterrows():\n",
    "    user_id = row['UserID']\n",
    "    movie_id = row['MovieID']\n",
    "    rating = row['Ratings']\n",
    "    # Subtract 1 from the ids since matrix indices start from 0\n",
    "    ratings_matrix[user_id - 1, movie_id - 1] = rating\n",
    "\n",
    "\n"
   ]
  },
  {
   "cell_type": "code",
   "execution_count": 4,
   "metadata": {},
   "outputs": [
    {
     "name": "stdout",
     "output_type": "stream",
     "text": [
      "(6040, 3952)\n"
     ]
    }
   ],
   "source": [
    "# Print the shape\n",
    "print(ratings_matrix.shape)"
   ]
  },
  {
   "cell_type": "code",
   "execution_count": 5,
   "metadata": {},
   "outputs": [
    {
     "name": "stdout",
     "output_type": "stream",
     "text": [
      "User 10 rated the movie with MovieID '1377' a rating of 3\n",
      "User 13 rated the movie with MovieID '1377' a rating of 3\n",
      "User 18 rated the movie with MovieID '1377' a rating of 2\n"
     ]
    }
   ],
   "source": [
    "# Store and print ratings for Batman Returns\n",
    "\n",
    "def movieRatingSearch(ratings_matrix,movie_index):\n",
    "    movie_ratings = ratings_matrix[:, movie_index]\n",
    "\n",
    "\n",
    "    user_ids = np.where(movie_ratings > 0)[0][:3] \n",
    "    \n",
    "    \n",
    "    for user_id in user_ids:\n",
    "        rating = ratings_matrix[user_id, movie_index]\n",
    "        print(f\"User {user_id + 1} rated the movie with MovieID '1377' a rating of {rating}\")\n",
    "\n",
    "movieRatingSearch(ratings_matrix,1376)"
   ]
  },
  {
   "cell_type": "markdown",
   "metadata": {},
   "source": [
    "## Question 2"
   ]
  },
  {
   "cell_type": "markdown",
   "metadata": {},
   "source": [
    "Normalize the ratings matrix (created in **Question 1**) using Z-score normalization. While we can't use `sklearn`'s `StandardScaler` for this step, we can do the statistical calculations ourselves to normalize the data.\n",
    "\n",
    "Before you start:\n",
    "- Your first step should be to get the average of every *column* of the ratings matrix (we want an average by title, not by user!).\n",
    "- Make sure that the mean is calculated considering only non-zero elements. If there is a movie which is rated only by 10 users, we get its mean rating using (sum of the 10 ratings)/10 and **NOT** (sum of 10 ratings)/(total number of users)\n",
    "- All of the missing values in the dataset should be replaced with the average rating for the given movie. This is a complex topic, but for our case replacing empty values with the mean will make it so that the absence of a rating doesn't affect the overall average, and it provides an \"expected value\" which is useful for computing correlations and recommendations in later steps.\n",
    "- In our matrix, 0 represents a missing rating.\n",
    "- Next, we want to subtract the average from the original ratings thus allowing us to get a mean of 0 in every *column*. It may be very close but not exactly zero because of the limited precision `float`s allow.\n",
    "- Lastly, divide this by the standard deviation of the *column*.\n",
    "\n",
    "- Not every MovieID is used, leading to zero columns. This will cause a divide by zero error when normalizing the matrix. Simply replace any NaN values in your normalized matrix with 0."
   ]
  },
  {
   "cell_type": "code",
   "execution_count": 11,
   "metadata": {},
   "outputs": [],
   "source": [
    "def matrix_normalized(ratings_matrix):    \n",
    "    sum_ratings = np.sum(ratings_matrix, axis=0)\n",
    "    count_nonzero = np.count_nonzero(ratings_matrix, axis=0)\n",
    "    count_nonzero[count_nonzero == 0] = 1\n",
    "    mean_ratings = sum_ratings / count_nonzero\n",
    "    ratings_matrix_with_mean = ratings_matrix.copy()\n",
    "    for i in range(ratings_matrix.shape[1]):\n",
    "        ratings_matrix_with_mean[:, i] = np.where(ratings_matrix[:, i] == 0, mean_ratings[i], ratings_matrix[:, i])\n",
    "    std_dev = np.std(ratings_matrix_with_mean, axis=0)\n",
    "    std_dev[std_dev == 0] = 1\n",
    "    normalized_matrix = (ratings_matrix_with_mean - mean_ratings) / std_dev\n",
    "    return np.nan_to_num(normalized_matrix)"
   ]
  },
  {
   "cell_type": "markdown",
   "metadata": {},
   "source": [
    "## Question 3"
   ]
  },
  {
   "cell_type": "markdown",
   "metadata": {
    "id": "LMTGisty8vux"
   },
   "source": [
    "We're now going to perform Singular Value Decomposition (SVD) on the normalized ratings matrix from the previous question. Perform the process using numpy, and along the way print the shapes of the $U$, $S$, and $V$ matrices you calculated."
   ]
  },
  {
   "cell_type": "code",
   "execution_count": 12,
   "metadata": {
    "id": "rPQyIi5sFYXH"
   },
   "outputs": [
    {
     "name": "stdout",
     "output_type": "stream",
     "text": [
      "Shape of U: (6040, 3952)\n",
      "Shape of S: (3952,)\n",
      "Shape of Vt: (3952, 3952)\n"
     ]
    }
   ],
   "source": [
    "# Compute the SVD of the normalised matrix\n",
    "import numpy as np\n",
    "\n",
    "# Assuming normalized_matrix is already defined from the previous part\n",
    "mean_ratings=data.pivot_table('Ratings','Title',aggfunc='mean')\n",
    "mean_ratings\n",
    "# Perform SVD\n",
    "U, S, Vt = np.linalg.svd(matrix_normalized(ratings_matrix), full_matrices=False)\n",
    "\n",
    "# Print the shapes of the matrices\n",
    "print(f'Shape of U: {U.shape}')\n",
    "print(f'Shape of S: {S.shape}')\n",
    "print(f'Shape of Vt: {Vt.shape}')\n"
   ]
  },
  {
   "cell_type": "markdown",
   "metadata": {},
   "source": [
    "## Question 4"
   ]
  },
  {
   "cell_type": "markdown",
   "metadata": {},
   "source": [
    "Reconstruct four rank-k rating matrix $R_k$, where $R_k = U_kS_kV_k^T$ for k = [100, 1000, 2000, 3000]. Using each of $R_k$ make predictions for the 3 users selected in Question 1, for the movie with ID 1377 (Batman Returns). Compare the original ratings with the predicted ratings."
   ]
  },
  {
   "cell_type": "code",
   "execution_count": null,
   "metadata": {},
   "outputs": [],
   "source": [
    "import numpy as np\n",
    "\n",
    "# Assuming U, S, Vt are already defined from the previous SVD part,\n",
    "# and user_ids is the array of user IDs selected in Question 1\n",
    "\n",
    "# Convert the singular values in S to a diagonal matrix\n",
    "S_diag = np.diag(S)\n",
    "\n",
    "\n",
    "\n",
    "def getRk(value):\n",
    "    U_v = U[:, :value]\n",
    "    S_v = S_diag[:value, :value]\n",
    "    Vt_v = Vt[:value, :]\n",
    "    return  np.dot(U_v, np.dot(S_v, Vt_v))\n",
    "    \n",
    "# Values of k\n",
    "k_values = [100, 1000, 2000, 3000]\n",
    "\n",
    "# Iterate over the values of k\n",
    "for k in k_values:\n",
    "\n",
    "    R_k = getRk(k)\n",
    "\n",
    "    # Step 3: Extract the ratings for the 3 users for movie ID 1377 (column index 1376)\n",
    "    predicted_ratings = R_k[user_ids, 1376]\n",
    "\n",
    "    # Print the predicted ratings along with the original ratings\n",
    "    print(f'Predicted ratings for k = {k}: {predicted_ratings}')\n",
    "    original_ratings = ratings_matrix[user_ids, 1376]\n",
    "    print(f'Original ratings: {original_ratings}')\n",
    "\n",
    "\n",
    "\n",
    "\n",
    "\n",
    "# Note: Ensure that the indices user_ids and the column index 1376 are correct as per your dataset.\n"
   ]
  },
  {
   "cell_type": "markdown",
   "metadata": {},
   "source": [
    "## Question 5"
   ]
  },
  {
   "cell_type": "markdown",
   "metadata": {},
   "source": [
    "### Cosine Similarity\n",
    "Cosine similarity is a metric used to measure how similar two vectors are. Mathematically, it measures the cosine of the angle between two vectors projected in a multi-dimensional space. Cosine similarity is high if the angle between two vectors is 0, and the output value ranges within $cosine(x,y) \\in [0,1]$. $0$ means there is no similarity (perpendicular), where $1$ (parallel) means that both the items are 100% similar.\n",
    "\n",
    "$$ cosine(x,y) = \\frac{x^T y}{||x|| ||y||}  $$"
   ]
  },
  {
   "cell_type": "markdown",
   "metadata": {
    "id": "mtb73iEU9MV4"
   },
   "source": [
    "**Based on the reconstruction rank-1000 rating matrix $R_{1000}$ and the cosine similarity,** sort the movies which are most similar. You will have a function `top_movie_similarity` which sorts data by its similarity to a movie with ID `movie_id` and returns the top $n$ items, and a second function `print_similar_movies` which prints the titles of said similar movies. Return the top 5 movies for the movie with ID `1377` (*Batman Returns*)\n",
    "\n",
    "Note: While finding the cosine similarity, there are a few empty columns which will have a magnitude of **zero** resulting in NaN values. These should be replaced by 0, otherwise these columns will show most similarity with the given movie. "
   ]
  },
  {
   "cell_type": "code",
   "execution_count": null,
   "metadata": {
    "id": "AuE4g481HoH2"
   },
   "outputs": [],
   "source": [
    "# Sort the movies based on cosine similarity\n",
    "def top_movie_similarity(data, movie_id, top_n=5):\n",
    "    # Subtract 1 from movie_id since indices start from 0\n",
    "    movie_vector = data[:, movie_id - 1]\n",
    "    \n",
    "    # Handle zero magnitude vectors to avoid division by zero\n",
    "    norms = np.linalg.norm(data, axis=0) + 1e-10  # Adding a small value to avoid division by zero\n",
    "    movie_norm = np.linalg.norm(movie_vector) + 1e-10  # Adding a small value to avoid division by zero\n",
    "    \n",
    "    # Compute cosine similarity using the formula\n",
    "    cosine_similarities = np.dot(data.T, movie_vector) / (norms * movie_norm)\n",
    "    \n",
    "    # Replace NaN values with 0\n",
    "    cosine_similarities = np.nan_to_num(cosine_similarities)\n",
    "    \n",
    "    # Get the indices of the top_n most similar movies\n",
    "    # (excluding the movie itself)\n",
    "    top_indices = np.argsort(cosine_similarities)[-top_n - 1:-1][::-1]\n",
    "    \n",
    "    return top_indices\n",
    "def print_similar_movies(movie_titles, top_indices):\n",
    "    print('Most Similar movies:')\n",
    "    for index in top_indices:\n",
    "        print(f'MovieID: {index + 1}, Title: {movie_titles[index]}')\n",
    "\n",
    "\n",
    "\n",
    "\n",
    "R_1000 = getRk(1000)\n",
    "\n",
    "movie_titles = pd.Series(movies_data['Title'].values, index=movies_data['MovieID']).to_dict()\n",
    "\n",
    "\n",
    "\n",
    "# Print the top 5 movies for Batman Returns\n",
    "movie_id = 1377\n",
    "top_indices = top_movie_similarity(R_1000, movie_id)\n",
    "print_similar_movies(movie_titles, top_indices)"
   ]
  },
  {
   "cell_type": "markdown",
   "metadata": {},
   "source": [
    "## Question 6"
   ]
  },
  {
   "cell_type": "markdown",
   "metadata": {},
   "source": [
    "### Movie Recommendations\n",
    "Using the same process from Question 5, write `top_user_similarity` which sorts data by its similarity to a user with ID `user_id` and returns the top result. Then find the MovieIDs of the movies that this similar user has rated most highly, but that `user_id` has not yet seen. Find at least 5 movie recommendations for the user with ID `5954` and print their titles.\n",
    "\n",
    "Hint: To check your results, find the genres of the movies that the user likes and compare with the genres of the recommended movies."
   ]
  },
  {
   "cell_type": "code",
   "execution_count": null,
   "metadata": {},
   "outputs": [],
   "source": [
    "import numpy as np\n",
    "from sklearn.metrics.pairwise import cosine_similarity\n",
    "movie_titles = pd.Series(movies_data['Title'].values, index=movies_data['MovieID']).to_dict()\n",
    "def top_user_similarity(data, user_id):\n",
    "    # Subtract 1 from user_id as the matrix indices start from 0\n",
    "    user_id -= 1\n",
    "    \n",
    "    # Get the vector for the specified user\n",
    "    user_vector = data[user_id, :].reshape(1, -1)\n",
    "    \n",
    "    # Compute the cosine similarity between the user vector and all other user vectors\n",
    "    similarity_matrix = cosine_similarity(user_vector, data)\n",
    "    \n",
    "    # Flatten the similarity matrix and replace any NaN values with 0\n",
    "    similarity_scores = np.nan_to_num(similarity_matrix.flatten())\n",
    "    \n",
    "    # Get the index of the most similar user\n",
    "    # (excluding the user itself by setting its similarity score to 0)\n",
    "    similarity_scores[user_id] = 0\n",
    "    similar_user_index = np.argmax(similarity_scores)\n",
    "    \n",
    "    return similar_user_index\n",
    "\n",
    "def get_recommendations(data, user_id, similar_user_index, top_n=5):\n",
    "    # Find movies that the similar user has rated highly but the specified user has not seen\n",
    "    user_ratings = data[user_id - 1, :]\n",
    "    similar_user_ratings = data[similar_user_index, :]\n",
    "    unseen_indices = np.where(user_ratings == 0)[0]\n",
    "    unseen_similar_user_ratings = similar_user_ratings[unseen_indices]\n",
    "    top_movie_indices = unseen_indices[np.argsort(unseen_similar_user_ratings)[::-1][:top_n]]\n",
    "    return top_movie_indices\n",
    "\n",
    "# Assuming R_1000 is the reconstruction rank-1000 rating matrix\n",
    "\n",
    "def print_Recommended_movies(user_id,data):\n",
    "    similar_user_index = top_user_similarity(R_1000, user_id)\n",
    "    top_movie_indices = get_recommendations(R_1000, user_id, similar_user_index)\n",
    "    \n",
    "    # Print the recommended movie titles\n",
    "    print('Recommended movies:')\n",
    "    for movie_index in top_movie_indices:\n",
    "        # Add 1 to movie_index as MovieID starts from 1\n",
    "        print(movie_titles[movie_index + 1])\n",
    "\n",
    "R_1000 = getRk(1000)\n",
    "print_Recommended_movies(user_id,R_1000)\n",
    "\n",
    "\n"
   ]
  },
  {
   "cell_type": "code",
   "execution_count": null,
   "metadata": {},
   "outputs": [],
   "source": []
  },
  {
   "cell_type": "code",
   "execution_count": null,
   "metadata": {},
   "outputs": [],
   "source": []
  },
  {
   "cell_type": "code",
   "execution_count": null,
   "metadata": {},
   "outputs": [],
   "source": []
  },
  {
   "cell_type": "code",
   "execution_count": null,
   "metadata": {},
   "outputs": [],
   "source": []
  }
 ],
 "metadata": {
  "colab": {
   "name": "Assignment 2 solutions.ipynb",
   "provenance": []
  },
  "kernelspec": {
   "display_name": "Python 3 (ipykernel)",
   "language": "python",
   "name": "python3"
  },
  "language_info": {
   "codemirror_mode": {
    "name": "ipython",
    "version": 3
   },
   "file_extension": ".py",
   "mimetype": "text/x-python",
   "name": "python",
   "nbconvert_exporter": "python",
   "pygments_lexer": "ipython3",
   "version": "3.11.5"
  },
  "vscode": {
   "interpreter": {
    "hash": "e7370f93d1d0cde622a1f8e1c04877d8463912d04d973331ad4851f04de6915a"
   }
  }
 },
 "nbformat": 4,
 "nbformat_minor": 4
}
